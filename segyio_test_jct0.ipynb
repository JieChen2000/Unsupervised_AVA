{
 "cells": [
  {
   "cell_type": "code",
   "execution_count": 2,
   "metadata": {},
   "outputs": [],
   "source": [
    "# Compatability Imports\n",
    "from __future__ import print_function\n",
    "from os.path import isfile, join\n",
    "\n",
    "import segyio\n",
    "from os import listdir\n",
    "import numpy as np\n",
    "import scipy.misc\n",
    "\n",
    "from skimage.io import imread, imshow\n",
    "#from matplotlib.pyplot import figure\n",
    "import matplotlib.pyplot as plt\n",
    "\n",
    "import pandas as pd"
   ]
  },
  {
   "cell_type": "markdown",
   "metadata": {},
   "source": [
    "## Read the SEGY file header "
   ]
  },
  {
   "cell_type": "code",
   "execution_count": 4,
   "metadata": {},
   "outputs": [
    {
     "name": "stdout",
     "output_type": "stream",
     "text": [
      "{JobID: 1, LineNumber: 1, ReelNumber: 1, Traces: 1, AuxTraces: 0, Interval: 4000, IntervalOriginal: 0, Samples: 1501, SamplesOriginal: 0, Format: 5, EnsembleFold: 1, SortingCode: 4, VerticalSum: 1, SweepFrequencyStart: 0, SweepFrequencyEnd: 0, SweepLength: 0, Sweep: 0, SweepChannel: 0, SweepTaperStart: 0, SweepTaperEnd: 0, Taper: 0, CorrelatedTraces: 0, BinaryGainRecovery: 0, AmplitudeRecovery: 0, MeasurementSystem: 1, ImpulseSignalPolarity: 1, VibratoryPolarity: 0, SEGYRevision: 0, TraceFlag: 0, ExtendedHeaders: 0}\n",
      "1\n",
      "983\n",
      "[ 504  505  506 ... 5554 5555 5556]\n",
      "[ 983  984  985 ... 4417 4418 4419]\n"
     ]
    }
   ],
   "source": [
    "filename = 'psdn11_TbsdmF_Near_Nov_11_32bit.segy'\n",
    "with segyio.open(filename, \"r\") as segyfile:\n",
    "\n",
    "    # Memory map file for faster reading (especially if file is big...)\n",
    "    segyfile.mmap()\n",
    "    # Print binary header info\n",
    "    print(segyfile.bin)\n",
    "    print(segyfile.bin[segyio.BinField.Traces])\n",
    "\n",
    "    # Read headerword inline for trace 10\n",
    "    print(segyfile.header[10][segyio.TraceField.INLINE_3D])\n",
    "\n",
    "    # Print inline and crossline axis\n",
    "    print(segyfile.xlines)\n",
    "    print(segyfile.ilines)\n"
   ]
  },
  {
   "cell_type": "code",
   "execution_count": null,
   "metadata": {},
   "outputs": [],
   "source": [
    "data = []\n",
    "with segyio.open(filename, \"r\") as segyfile:\n",
    "    # Read data along first xline\n",
    "    #data = segyfile.xline[segyfile.xlines[3501]]\n",
    "    # Read data along last iline\n",
    "    #data.append(segyfile.iline[segyfile.ilines[2501]])\n",
    "    data.append(segyfile.iline[segyfile.ilines[1503]])\n",
    "    #print(data.shape)\n",
    "    # Read data along 100th time slice\n",
    "    data.append = segyfile.depth_slice[700]"
   ]
  },
  {
   "cell_type": "code",
   "execution_count": null,
   "metadata": {},
   "outputs": [],
   "source": [
    "data[0].shape"
   ]
  },
  {
   "cell_type": "code",
   "execution_count": null,
   "metadata": {},
   "outputs": [],
   "source": [
    "plt.imshow(data[0], cmap='gray', aspect='auto')\n",
    "#plt.xlim(100., 800)\n",
    "#plt.ylim(0.,4000)\n",
    "plt.show()"
   ]
  },
  {
   "cell_type": "code",
   "execution_count": null,
   "metadata": {},
   "outputs": [],
   "source": [
    "print(data[1].shape)\n",
    "plt.imshow(data[1], cmap='gray', aspect='auto')\n",
    "#plt.xlim(100., 800)\n",
    "#plt.ylim(0.,4000)\n",
    "plt.show()"
   ]
  },
  {
   "cell_type": "code",
   "execution_count": null,
   "metadata": {},
   "outputs": [],
   "source": []
  }
 ],
 "metadata": {
  "kernelspec": {
   "display_name": "Python 3",
   "language": "python",
   "name": "python3"
  },
  "language_info": {
   "codemirror_mode": {
    "name": "ipython",
    "version": 3
   },
   "file_extension": ".py",
   "mimetype": "text/x-python",
   "name": "python",
   "nbconvert_exporter": "python",
   "pygments_lexer": "ipython3",
   "version": "3.6.5"
  }
 },
 "nbformat": 4,
 "nbformat_minor": 2
}
